{
 "cells": [
  {
   "cell_type": "code",
   "execution_count": 34,
   "metadata": {},
   "outputs": [
    {
     "name": "stdout",
     "output_type": "stream",
     "text": [
      "Numerology and the Divine Triangle\n",
      "5.00\n"
     ]
    }
   ],
   "source": [
    "from selenium import webdriver\n",
    "from selenium.webdriver.chrome.service import Service\n",
    "from selenium.webdriver.common.by import By\n",
    "from selenium.webdriver.support.ui import WebDriverWait\n",
    "from selenium.webdriver.support import expected_conditions as EC\n",
    "from selenium.common.exceptions import NoSuchElementException\n",
    "import pandas as pd\n",
    "import time\n",
    "\n",
    "\n",
    "path = \"C:/Users/VanshChaurasia/Desktop/My Work/Scrapping/chromedriver.exe\"\n",
    "s = Service(path)\n",
    "driver = webdriver.Chrome(service=s)\n",
    "driver.get(\"https://www.shortform.com/best-books/genre/best-numerology-books-of-all-time\")\n",
    "\n",
    "try:\n",
    "    app=driver.find_element(By.ID,\"app\")\n",
    "    main=app.find_element(By.CLASS_NAME,\"sf-public\")\n",
    "    # print(main.text)\n",
    "    box=main.find_element(By.CLASS_NAME,\"main-content.book-list\")\n",
    "    # print(box.text)\n",
    "    box2=box.find_element(By.CLASS_NAME,\"py-2.bg-white\")\n",
    "    # print(box2.text)\n",
    "    cont=box2.find_element(By.CLASS_NAME,\"container\")\n",
    "    row=cont.find_element(By.CLASS_NAME, \"row.justify-content-center\")\n",
    "    col=row.find_element(By.CLASS_NAME,\"col-12.chapter-text\")\n",
    "    one=col.find_element(By.CLASS_NAME,\"card.border\")\n",
    "    card=one.find_element(By.CLASS_NAME,\"card-body\")\n",
    "    rw=card.find_element(By.CLASS_NAME,\"row\")\n",
    "    md=rw.find_element(By.CLASS_NAME,\"col-md-10.col-12.px-md-3.px-1\")\n",
    "    pr=md.find_element(By.CLASS_NAME,\"row\")\n",
    "    er=pr.find_element(By.CLASS_NAME,\"col-9.col-md-12\")\n",
    "    na=er.find_element(By.CLASS_NAME,\"display-4.mb-0.mt--2\") \n",
    "    print(na.text)\n",
    "    va=er.find_element(By.CLASS_NAME,\"justify-content-center.byline.pt-1\")\n",
    "    nsh=va.find_element(By.CSS_SELECTOR, 'span.sf-star-rating + span')\n",
    "    print(nsh.text)\n",
    "\n",
    "finally:\n",
    "    driver.close()\n"
   ]
  },
  {
   "cell_type": "code",
   "execution_count": null,
   "metadata": {},
   "outputs": [],
   "source": []
  }
 ],
 "metadata": {
  "kernelspec": {
   "display_name": "base",
   "language": "python",
   "name": "python3"
  },
  "language_info": {
   "codemirror_mode": {
    "name": "ipython",
    "version": 3
   },
   "file_extension": ".py",
   "mimetype": "text/x-python",
   "name": "python",
   "nbconvert_exporter": "python",
   "pygments_lexer": "ipython3",
   "version": "3.11.5"
  }
 },
 "nbformat": 4,
 "nbformat_minor": 2
}
